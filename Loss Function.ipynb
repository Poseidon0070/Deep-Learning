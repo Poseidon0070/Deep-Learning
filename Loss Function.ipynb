{
 "cells": [
  {
   "cell_type": "code",
   "execution_count": 1,
   "id": "0b226feb",
   "metadata": {},
   "outputs": [],
   "source": [
    "import numpy as np"
   ]
  },
  {
   "cell_type": "code",
   "execution_count": 2,
   "id": "bd810b6b",
   "metadata": {},
   "outputs": [],
   "source": [
    "y_pred = np.array([1,1,0,0,1])\n",
    "y_true = np.array([0.30,0.7,1,0,0.5])"
   ]
  },
  {
   "cell_type": "code",
   "execution_count": 3,
   "id": "37b0cbc0",
   "metadata": {},
   "outputs": [],
   "source": [
    "def mean_absolute_error(a1, a2):\n",
    "    tot = 0\n",
    "    for yt,yp in zip(a1,a2):\n",
    "        tot += abs(yt-yp)\n",
    "    print(\"Total Error : \", tot)\n",
    "    print(\"MAE : \", tot/len(a1))"
   ]
  },
  {
   "cell_type": "code",
   "execution_count": 4,
   "id": "c93e71f8",
   "metadata": {},
   "outputs": [
    {
     "name": "stdout",
     "output_type": "stream",
     "text": [
      "Total Error :  2.5\n",
      "MAE :  0.5\n"
     ]
    }
   ],
   "source": [
    "mean_absolute_error(y_true,y_pred)"
   ]
  },
  {
   "cell_type": "code",
   "execution_count": 5,
   "id": "feb969ea",
   "metadata": {},
   "outputs": [
    {
     "name": "stdout",
     "output_type": "stream",
     "text": [
      "2.5 0.5\n"
     ]
    }
   ],
   "source": [
    "#using numpy\n",
    "print(np.sum(np.abs(y_pred-y_true))\n",
    ",np.mean(np.abs(y_pred-y_true)))"
   ]
  },
  {
   "cell_type": "code",
   "execution_count": 12,
   "id": "036d9399",
   "metadata": {},
   "outputs": [],
   "source": [
    "def log_loss(y_pred,y_true):\n",
    "    eps = 1e-15;\n",
    "    y_pred_new = [max(i,eps) for i in y_pred]\n",
    "    y_pred_new = [min(i,1-eps) for i in y_pred_new]\n",
    "    y_pred_new = np.array(y_pred_new)\n",
    "    return (-np.mean(y_true*np.log(y_pred_new)+(1-y_true)*np.log(1-y_pred_new)))"
   ]
  },
  {
   "cell_type": "code",
   "execution_count": 13,
   "id": "64a6f216",
   "metadata": {},
   "outputs": [
    {
     "data": {
      "text/plain": [
       "17.2696280766844"
      ]
     },
     "execution_count": 13,
     "metadata": {},
     "output_type": "execute_result"
    }
   ],
   "source": [
    "log_loss(y_pred,y_true)"
   ]
  },
  {
   "cell_type": "code",
   "execution_count": 14,
   "id": "d4fbfd1a",
   "metadata": {},
   "outputs": [],
   "source": [
    "def mean_squared_error(y_pred,y_true):\n",
    "    tot = 0\n",
    "    for p,t in zip(y_pred,y_true):\n",
    "        tot += np.square(p-t);\n",
    "    print(\"Total sum of squared error : \", tot)\n",
    "    print(\"Mean squared error : \", tot/len(y_pred))"
   ]
  },
  {
   "cell_type": "code",
   "execution_count": 16,
   "id": "eb0a609a",
   "metadata": {},
   "outputs": [
    {
     "name": "stdout",
     "output_type": "stream",
     "text": [
      "Total sum of squared error :  1.83\n",
      "Mean squared error :  0.366\n"
     ]
    }
   ],
   "source": [
    "mean_squared_error(y_pred,y_true)"
   ]
  },
  {
   "cell_type": "code",
   "execution_count": 18,
   "id": "ba87f92c",
   "metadata": {},
   "outputs": [
    {
     "name": "stdout",
     "output_type": "stream",
     "text": [
      "1.83 0.366\n"
     ]
    }
   ],
   "source": [
    "print(np.sum(np.square(y_pred-y_true)), \n",
    "np.mean(np.square(y_pred-y_true)))"
   ]
  },
  {
   "cell_type": "code",
   "execution_count": null,
   "id": "9db4154f",
   "metadata": {},
   "outputs": [],
   "source": []
  }
 ],
 "metadata": {
  "kernelspec": {
   "display_name": "Python 3 (ipykernel)",
   "language": "python",
   "name": "python3"
  },
  "language_info": {
   "codemirror_mode": {
    "name": "ipython",
    "version": 3
   },
   "file_extension": ".py",
   "mimetype": "text/x-python",
   "name": "python",
   "nbconvert_exporter": "python",
   "pygments_lexer": "ipython3",
   "version": "3.11.3"
  }
 },
 "nbformat": 4,
 "nbformat_minor": 5
}
